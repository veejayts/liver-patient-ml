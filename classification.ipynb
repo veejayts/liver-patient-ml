{
 "cells": [
  {
   "cell_type": "code",
   "execution_count": 1,
   "id": "fossil-hamilton",
   "metadata": {},
   "outputs": [],
   "source": [
    "import pandas as pd"
   ]
  },
  {
   "cell_type": "code",
   "execution_count": 2,
   "id": "expensive-shopper",
   "metadata": {},
   "outputs": [],
   "source": [
    "# READING THE DATA AND CHECKING FOR ANY MISSING DATA"
   ]
  },
  {
   "cell_type": "code",
   "execution_count": 3,
   "id": "collectible-regression",
   "metadata": {},
   "outputs": [
    {
     "name": "stdout",
     "output_type": "stream",
     "text": [
      "Index(['age', 'gender', 'tot_bilirubin', 'direct_bilirubin', 'tot_proteins',\n",
      "       'albumin', 'ag_ratio', 'sgpt', 'sgot', 'alkphos', 'is_patient'],\n",
      "      dtype='object')\n",
      "\n",
      "<bound method NDFrame.head of      age  gender  tot_bilirubin  direct_bilirubin  tot_proteins  albumin  \\\n",
      "0     65  Female            0.7               0.1           187       16   \n",
      "1     62    Male           10.9               5.5           699       64   \n",
      "2     62    Male            7.3               4.1           490       60   \n",
      "3     58    Male            1.0               0.4           182       14   \n",
      "4     72    Male            3.9               2.0           195       27   \n",
      "..   ...     ...            ...               ...           ...      ...   \n",
      "578   60    Male            0.5               0.1           500       20   \n",
      "579   40    Male            0.6               0.1            98       35   \n",
      "580   52    Male            0.8               0.2           245       48   \n",
      "581   31    Male            1.3               0.5           184       29   \n",
      "582   38    Male            1.0               0.3           216       21   \n",
      "\n",
      "     ag_ratio  sgpt  sgot  alkphos  is_patient  \n",
      "0          18   6.8   3.3     0.90           1  \n",
      "1         100   7.5   3.2     0.74           1  \n",
      "2          68   7.0   3.3     0.89           1  \n",
      "3          20   6.8   3.4     1.00           1  \n",
      "4          59   7.3   2.4     0.40           1  \n",
      "..        ...   ...   ...      ...         ...  \n",
      "578        34   5.9   1.6     0.37           2  \n",
      "579        31   6.0   3.2     1.10           1  \n",
      "580        49   6.4   3.2     1.00           1  \n",
      "581        32   6.8   3.4     1.00           1  \n",
      "582        24   7.3   4.4     1.50           2  \n",
      "\n",
      "[583 rows x 11 columns]>\n",
      "\n",
      "<class 'pandas.core.frame.DataFrame'>\n",
      "RangeIndex: 583 entries, 0 to 582\n",
      "Data columns (total 11 columns):\n",
      " #   Column            Non-Null Count  Dtype  \n",
      "---  ------            --------------  -----  \n",
      " 0   age               583 non-null    int64  \n",
      " 1   gender            583 non-null    object \n",
      " 2   tot_bilirubin     583 non-null    float64\n",
      " 3   direct_bilirubin  583 non-null    float64\n",
      " 4   tot_proteins      583 non-null    int64  \n",
      " 5   albumin           583 non-null    int64  \n",
      " 6   ag_ratio          583 non-null    int64  \n",
      " 7   sgpt              583 non-null    float64\n",
      " 8   sgot              583 non-null    float64\n",
      " 9   alkphos           579 non-null    float64\n",
      " 10  is_patient        583 non-null    int64  \n",
      "dtypes: float64(5), int64(5), object(1)\n",
      "memory usage: 50.2+ KB\n",
      "None\n"
     ]
    }
   ],
   "source": [
    "data = pd.read_csv('./Indian Liver Patient Dataset (ILPD).csv')\n",
    "print(data.columns)\n",
    "print()\n",
    "print(data.head)\n",
    "print()\n",
    "print(data.info())"
   ]
  },
  {
   "cell_type": "code",
   "execution_count": 4,
   "id": "bulgarian-clearance",
   "metadata": {},
   "outputs": [
    {
     "data": {
      "text/html": [
       "<div>\n",
       "<style scoped>\n",
       "    .dataframe tbody tr th:only-of-type {\n",
       "        vertical-align: middle;\n",
       "    }\n",
       "\n",
       "    .dataframe tbody tr th {\n",
       "        vertical-align: top;\n",
       "    }\n",
       "\n",
       "    .dataframe thead th {\n",
       "        text-align: right;\n",
       "    }\n",
       "</style>\n",
       "<table border=\"1\" class=\"dataframe\">\n",
       "  <thead>\n",
       "    <tr style=\"text-align: right;\">\n",
       "      <th></th>\n",
       "      <th>age</th>\n",
       "      <th>tot_bilirubin</th>\n",
       "      <th>direct_bilirubin</th>\n",
       "      <th>tot_proteins</th>\n",
       "      <th>albumin</th>\n",
       "      <th>ag_ratio</th>\n",
       "      <th>sgpt</th>\n",
       "      <th>sgot</th>\n",
       "      <th>alkphos</th>\n",
       "      <th>is_patient</th>\n",
       "    </tr>\n",
       "  </thead>\n",
       "  <tbody>\n",
       "    <tr>\n",
       "      <th>count</th>\n",
       "      <td>583.000000</td>\n",
       "      <td>583.000000</td>\n",
       "      <td>583.000000</td>\n",
       "      <td>583.000000</td>\n",
       "      <td>583.000000</td>\n",
       "      <td>583.000000</td>\n",
       "      <td>583.000000</td>\n",
       "      <td>583.000000</td>\n",
       "      <td>579.000000</td>\n",
       "      <td>583.000000</td>\n",
       "    </tr>\n",
       "    <tr>\n",
       "      <th>mean</th>\n",
       "      <td>44.746141</td>\n",
       "      <td>3.298799</td>\n",
       "      <td>1.486106</td>\n",
       "      <td>290.576329</td>\n",
       "      <td>80.713551</td>\n",
       "      <td>109.910806</td>\n",
       "      <td>6.483190</td>\n",
       "      <td>3.141852</td>\n",
       "      <td>0.947064</td>\n",
       "      <td>1.286449</td>\n",
       "    </tr>\n",
       "    <tr>\n",
       "      <th>std</th>\n",
       "      <td>16.189833</td>\n",
       "      <td>6.209522</td>\n",
       "      <td>2.808498</td>\n",
       "      <td>242.937989</td>\n",
       "      <td>182.620356</td>\n",
       "      <td>288.918529</td>\n",
       "      <td>1.085451</td>\n",
       "      <td>0.795519</td>\n",
       "      <td>0.319592</td>\n",
       "      <td>0.452490</td>\n",
       "    </tr>\n",
       "    <tr>\n",
       "      <th>min</th>\n",
       "      <td>4.000000</td>\n",
       "      <td>0.400000</td>\n",
       "      <td>0.100000</td>\n",
       "      <td>63.000000</td>\n",
       "      <td>10.000000</td>\n",
       "      <td>10.000000</td>\n",
       "      <td>2.700000</td>\n",
       "      <td>0.900000</td>\n",
       "      <td>0.300000</td>\n",
       "      <td>1.000000</td>\n",
       "    </tr>\n",
       "    <tr>\n",
       "      <th>25%</th>\n",
       "      <td>33.000000</td>\n",
       "      <td>0.800000</td>\n",
       "      <td>0.200000</td>\n",
       "      <td>175.500000</td>\n",
       "      <td>23.000000</td>\n",
       "      <td>25.000000</td>\n",
       "      <td>5.800000</td>\n",
       "      <td>2.600000</td>\n",
       "      <td>0.700000</td>\n",
       "      <td>1.000000</td>\n",
       "    </tr>\n",
       "    <tr>\n",
       "      <th>50%</th>\n",
       "      <td>45.000000</td>\n",
       "      <td>1.000000</td>\n",
       "      <td>0.300000</td>\n",
       "      <td>208.000000</td>\n",
       "      <td>35.000000</td>\n",
       "      <td>42.000000</td>\n",
       "      <td>6.600000</td>\n",
       "      <td>3.100000</td>\n",
       "      <td>0.930000</td>\n",
       "      <td>1.000000</td>\n",
       "    </tr>\n",
       "    <tr>\n",
       "      <th>75%</th>\n",
       "      <td>58.000000</td>\n",
       "      <td>2.600000</td>\n",
       "      <td>1.300000</td>\n",
       "      <td>298.000000</td>\n",
       "      <td>60.500000</td>\n",
       "      <td>87.000000</td>\n",
       "      <td>7.200000</td>\n",
       "      <td>3.800000</td>\n",
       "      <td>1.100000</td>\n",
       "      <td>2.000000</td>\n",
       "    </tr>\n",
       "    <tr>\n",
       "      <th>max</th>\n",
       "      <td>90.000000</td>\n",
       "      <td>75.000000</td>\n",
       "      <td>19.700000</td>\n",
       "      <td>2110.000000</td>\n",
       "      <td>2000.000000</td>\n",
       "      <td>4929.000000</td>\n",
       "      <td>9.600000</td>\n",
       "      <td>5.500000</td>\n",
       "      <td>2.800000</td>\n",
       "      <td>2.000000</td>\n",
       "    </tr>\n",
       "  </tbody>\n",
       "</table>\n",
       "</div>"
      ],
      "text/plain": [
       "              age  tot_bilirubin  direct_bilirubin  tot_proteins      albumin  \\\n",
       "count  583.000000     583.000000        583.000000    583.000000   583.000000   \n",
       "mean    44.746141       3.298799          1.486106    290.576329    80.713551   \n",
       "std     16.189833       6.209522          2.808498    242.937989   182.620356   \n",
       "min      4.000000       0.400000          0.100000     63.000000    10.000000   \n",
       "25%     33.000000       0.800000          0.200000    175.500000    23.000000   \n",
       "50%     45.000000       1.000000          0.300000    208.000000    35.000000   \n",
       "75%     58.000000       2.600000          1.300000    298.000000    60.500000   \n",
       "max     90.000000      75.000000         19.700000   2110.000000  2000.000000   \n",
       "\n",
       "          ag_ratio        sgpt        sgot     alkphos  is_patient  \n",
       "count   583.000000  583.000000  583.000000  579.000000  583.000000  \n",
       "mean    109.910806    6.483190    3.141852    0.947064    1.286449  \n",
       "std     288.918529    1.085451    0.795519    0.319592    0.452490  \n",
       "min      10.000000    2.700000    0.900000    0.300000    1.000000  \n",
       "25%      25.000000    5.800000    2.600000    0.700000    1.000000  \n",
       "50%      42.000000    6.600000    3.100000    0.930000    1.000000  \n",
       "75%      87.000000    7.200000    3.800000    1.100000    2.000000  \n",
       "max    4929.000000    9.600000    5.500000    2.800000    2.000000  "
      ]
     },
     "execution_count": 4,
     "metadata": {},
     "output_type": "execute_result"
    }
   ],
   "source": [
    "data.describe()"
   ]
  },
  {
   "cell_type": "code",
   "execution_count": 5,
   "id": "alpine-mercury",
   "metadata": {},
   "outputs": [],
   "source": [
    "# DATA CLEANING"
   ]
  },
  {
   "cell_type": "code",
   "execution_count": 6,
   "id": "quarterly-still",
   "metadata": {},
   "outputs": [
    {
     "name": "stdout",
     "output_type": "stream",
     "text": [
      "     age  gender  tot_bilirubin  direct_bilirubin  tot_proteins  albumin  \\\n",
      "209   45  Female            0.9               0.3           189       23   \n",
      "241   51    Male            0.8               0.2           230       24   \n",
      "253   35  Female            0.6               0.2           180       12   \n",
      "312   27    Male            1.3               0.6           106       25   \n",
      "\n",
      "     ag_ratio  sgpt  sgot  alkphos  is_patient  \n",
      "209        33   6.6   3.9      NaN           1  \n",
      "241        46   6.5   3.1      NaN           1  \n",
      "253        15   5.2   2.7      NaN           2  \n",
      "312        54   8.5   4.8      NaN           2  \n"
     ]
    }
   ],
   "source": [
    "print(data[data['alkphos'].isnull()])\n",
    "data['alkphos'].fillna(data['alkphos'].mean(), inplace = True)"
   ]
  },
  {
   "cell_type": "code",
   "execution_count": 7,
   "id": "deadly-better",
   "metadata": {},
   "outputs": [
    {
     "name": "stdout",
     "output_type": "stream",
     "text": [
      "<class 'pandas.core.frame.DataFrame'>\n",
      "RangeIndex: 583 entries, 0 to 582\n",
      "Data columns (total 11 columns):\n",
      " #   Column            Non-Null Count  Dtype  \n",
      "---  ------            --------------  -----  \n",
      " 0   age               583 non-null    int64  \n",
      " 1   gender            583 non-null    object \n",
      " 2   tot_bilirubin     583 non-null    float64\n",
      " 3   direct_bilirubin  583 non-null    float64\n",
      " 4   tot_proteins      583 non-null    int64  \n",
      " 5   albumin           583 non-null    int64  \n",
      " 6   ag_ratio          583 non-null    int64  \n",
      " 7   sgpt              583 non-null    float64\n",
      " 8   sgot              583 non-null    float64\n",
      " 9   alkphos           583 non-null    float64\n",
      " 10  is_patient        583 non-null    int64  \n",
      "dtypes: float64(5), int64(5), object(1)\n",
      "memory usage: 50.2+ KB\n",
      "None\n"
     ]
    }
   ],
   "source": [
    "print(data.info())"
   ]
  },
  {
   "cell_type": "code",
   "execution_count": 8,
   "id": "competent-flush",
   "metadata": {},
   "outputs": [
    {
     "name": "stdout",
     "output_type": "stream",
     "text": [
      "   age  gender  tot_bilirubin  direct_bilirubin  tot_proteins  albumin  \\\n",
      "0   65  Female            0.7               0.1           187       16   \n",
      "1   62    Male           10.9               5.5           699       64   \n",
      "2   62    Male            7.3               4.1           490       60   \n",
      "3   58    Male            1.0               0.4           182       14   \n",
      "4   72    Male            3.9               2.0           195       27   \n",
      "\n",
      "   ag_ratio  sgpt  sgot  alkphos  is_patient  \n",
      "0        18   6.8   3.3     0.90           1  \n",
      "1       100   7.5   3.2     0.74           1  \n",
      "2        68   7.0   3.3     0.89           1  \n",
      "3        20   6.8   3.4     1.00           1  \n",
      "4        59   7.3   2.4     0.40           1  \n"
     ]
    }
   ],
   "source": [
    "data['is_patient'] = data['is_patient'].replace(2, 0)\n",
    "print(data.head())"
   ]
  },
  {
   "cell_type": "code",
   "execution_count": 9,
   "id": "compact-parcel",
   "metadata": {},
   "outputs": [
    {
     "name": "stdout",
     "output_type": "stream",
     "text": [
      "   age  gender  tot_bilirubin  direct_bilirubin  tot_proteins  albumin  \\\n",
      "0   65       0            0.7               0.1           187       16   \n",
      "1   62       1           10.9               5.5           699       64   \n",
      "2   62       1            7.3               4.1           490       60   \n",
      "3   58       1            1.0               0.4           182       14   \n",
      "4   72       1            3.9               2.0           195       27   \n",
      "\n",
      "   ag_ratio  sgpt  sgot  alkphos  is_patient  \n",
      "0        18   6.8   3.3     0.90           1  \n",
      "1       100   7.5   3.2     0.74           1  \n",
      "2        68   7.0   3.3     0.89           1  \n",
      "3        20   6.8   3.4     1.00           1  \n",
      "4        59   7.3   2.4     0.40           1  \n"
     ]
    }
   ],
   "source": [
    "data['gender'] = data['gender'].replace({'Male': 1, 'Female': 0})\n",
    "print(data.head())"
   ]
  },
  {
   "cell_type": "code",
   "execution_count": 10,
   "id": "successful-resident",
   "metadata": {},
   "outputs": [],
   "source": [
    "# TRAINING, STORING AND COMPARING THE MODEL ACCURACY"
   ]
  },
  {
   "cell_type": "code",
   "execution_count": 11,
   "id": "hourly-archive",
   "metadata": {},
   "outputs": [],
   "source": [
    "# Model Helpers\n",
    "from sklearn import model_selection\n",
    "from sklearn import metrics\n",
    "from sklearn import preprocessing\n",
    "\n",
    "# Model imports\n",
    "from sklearn.linear_model import LogisticRegression\n",
    "from sklearn.neighbors import KNeighborsClassifier\n",
    "from sklearn.ensemble import RandomForestClassifier\n",
    "from sklearn.svm import SVC"
   ]
  },
  {
   "cell_type": "code",
   "execution_count": 12,
   "id": "aggregate-arrangement",
   "metadata": {},
   "outputs": [],
   "source": [
    "X = data.drop(['is_patient'], axis=1)\n",
    "y = data['is_patient']\n",
    "\n",
    "scaler = preprocessing.MinMaxScaler()\n",
    "X = scaler.fit_transform(X)\n",
    "\n",
    "x_train, x_test, y_train, y_test = model_selection.train_test_split(X, y, test_size = 0.2)"
   ]
  },
  {
   "cell_type": "code",
   "execution_count": 13,
   "id": "unexpected-afghanistan",
   "metadata": {},
   "outputs": [
    {
     "name": "stdout",
     "output_type": "stream",
     "text": [
      "0.8205128205128205\n"
     ]
    }
   ],
   "source": [
    "# Logistic Regression Model\n",
    "logistic_reg_model = LogisticRegression()\n",
    "logistic_reg_model.fit(x_train, y_train)\n",
    "acc_logistic_reg = logistic_reg_model.score(x_test, y_test)\n",
    "print(acc_logistic_reg)"
   ]
  },
  {
   "cell_type": "code",
   "execution_count": 14,
   "id": "similar-evidence",
   "metadata": {},
   "outputs": [
    {
     "name": "stdout",
     "output_type": "stream",
     "text": [
      "0.6581196581196581\n"
     ]
    }
   ],
   "source": [
    "# KNN Classifier\n",
    "model_knn = KNeighborsClassifier(n_neighbors=5)\n",
    "model_knn.fit(x_train, y_train)\n",
    "acc_knn = model_knn.score(x_test, y_test)\n",
    "print(acc_knn)"
   ]
  },
  {
   "cell_type": "code",
   "execution_count": 15,
   "id": "purple-effect",
   "metadata": {},
   "outputs": [
    {
     "name": "stdout",
     "output_type": "stream",
     "text": [
      "0.7094017094017094\n"
     ]
    }
   ],
   "source": [
    "# Random Forest Classifier\n",
    "model_rfc = RandomForestClassifier(n_estimators=50)\n",
    "model_rfc.fit(x_train, y_train)\n",
    "acc_rfc = model_rfc.score(x_test, y_test)\n",
    "print(acc_rfc)"
   ]
  },
  {
   "cell_type": "code",
   "execution_count": 16,
   "id": "prime-diesel",
   "metadata": {},
   "outputs": [
    {
     "name": "stdout",
     "output_type": "stream",
     "text": [
      "0.7948717948717948\n"
     ]
    }
   ],
   "source": [
    "# Support vector classification\n",
    "model_svc = SVC()\n",
    "model_svc.fit(x_train, y_train)\n",
    "acc_svc = model_svc.score(x_test, y_test)\n",
    "print(acc_svc)"
   ]
  },
  {
   "cell_type": "code",
   "execution_count": 17,
   "id": "awful-pottery",
   "metadata": {},
   "outputs": [],
   "source": [
    "# RESULT"
   ]
  },
  {
   "cell_type": "code",
   "execution_count": 18,
   "id": "polyphonic-whale",
   "metadata": {},
   "outputs": [
    {
     "name": "stdout",
     "output_type": "stream",
     "text": [
      "                      Model  Accuracy\n",
      "0       Logistic Regression  0.820513\n",
      "3                       SVC  0.794872\n",
      "2  Random Forest Classifier  0.709402\n",
      "1       KNeighborsClassifer  0.658120\n"
     ]
    }
   ],
   "source": [
    "results = pd.DataFrame({'Model': ['Logistic Regression','KNeighborsClassifer', 'Random Forest Classifier','SVC',],\n",
    "                        'Accuracy': [acc_logistic_reg, acc_knn, acc_rfc, \n",
    "                                  acc_svc,],}).sort_values(by = 'Accuracy', ascending = False)\n",
    "print(results)"
   ]
  },
  {
   "cell_type": "code",
   "execution_count": 19,
   "id": "second-falls",
   "metadata": {},
   "outputs": [],
   "source": [
    "# From the results, we can conclude that Logistic Regression and SVC works best for the given data"
   ]
  }
 ],
 "metadata": {
  "kernelspec": {
   "display_name": "Python 3",
   "language": "python",
   "name": "python3"
  },
  "language_info": {
   "codemirror_mode": {
    "name": "ipython",
    "version": 3
   },
   "file_extension": ".py",
   "mimetype": "text/x-python",
   "name": "python",
   "nbconvert_exporter": "python",
   "pygments_lexer": "ipython3",
   "version": "3.9.0"
  }
 },
 "nbformat": 4,
 "nbformat_minor": 5
}
